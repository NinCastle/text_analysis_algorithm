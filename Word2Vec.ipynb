{
 "cells": [
  {
   "cell_type": "code",
   "execution_count": 1,
   "metadata": {},
   "outputs": [
    {
     "name": "stderr",
     "output_type": "stream",
     "text": [
      "C:\\Users\\andrew\\.conda\\envs\\text3.5\\lib\\site-packages\\smart_open\\ssh.py:34: UserWarning: paramiko missing, opening SSH/SCP/SFTP paths will be disabled.  `pip install paramiko` to suppress\n",
      "  warnings.warn('paramiko missing, opening SSH/SCP/SFTP paths will be disabled.  `pip install paramiko` to suppress')\n",
      "C:\\Users\\andrew\\.conda\\envs\\text3.5\\lib\\site-packages\\gensim\\utils.py:1197: UserWarning: detected Windows; aliasing chunkize to chunkize_serial\n",
      "  warnings.warn(\"detected Windows; aliasing chunkize to chunkize_serial\")\n"
     ]
    }
   ],
   "source": [
    "import requests\n",
    "from bs4 import BeautifulSoup\n",
    "from konlpy.tag import Okt; okt = Okt()\n",
    "from gensim.models import Word2Vec"
   ]
  },
  {
   "cell_type": "code",
   "execution_count": 2,
   "metadata": {},
   "outputs": [],
   "source": [
    "urls = ['https://news.naver.com/main/read.nhn?mode=LSD&mid=shm&sid1=101&oid=014&aid=0004240408', \n",
    "       'https://news.naver.com/main/read.nhn?mode=LSD&mid=shm&sid1=101&oid=008&aid=0004229219',\n",
    "       'https://news.naver.com/main/read.nhn?mode=LSD&mid=shm&sid1=102&oid=001&aid=0010871291', \n",
    "       'https://news.naver.com/main/read.nhn?mode=LSD&mid=shm&sid1=103&oid=029&aid=0002531788']"
   ]
  },
  {
   "cell_type": "code",
   "execution_count": 4,
   "metadata": {},
   "outputs": [],
   "source": [
    "documents = []\n",
    "for idx, url in enumerate(urls):\n",
    "    req = requests.get(url)\n",
    "    soup = BeautifulSoup(req.content, 'html.parser')\n",
    "    news = soup.find('div', id='articleBodyContents')\n",
    "    nouns_ = okt.nouns(news.text)\n",
    "    doc_ = []\n",
    "    for i in nouns_:\n",
    "        if len(i) > 1:\n",
    "            doc_.append(i)\n",
    "    documents.append(doc_)"
   ]
  },
  {
   "cell_type": "code",
   "execution_count": 11,
   "metadata": {},
   "outputs": [],
   "source": [
    "model = Word2Vec(\n",
    "    documents,\n",
    "    size=100,\n",
    "    alpha=0.025,\n",
    "    window=5,\n",
    "    min_count=5,\n",
    "    sg=0,\n",
    "    negative=5)"
   ]
  },
  {
   "cell_type": "code",
   "execution_count": 15,
   "metadata": {},
   "outputs": [
    {
     "name": "stderr",
     "output_type": "stream",
     "text": [
      "C:\\Users\\andrew\\.conda\\envs\\text3.5\\lib\\site-packages\\ipykernel_launcher.py:1: DeprecationWarning: Call to deprecated `most_similar` (Method will be removed in 4.0.0, use self.wv.most_similar() instead).\n",
      "  \"\"\"Entry point for launching an IPython kernel.\n"
     ]
    },
    {
     "data": {
      "text/plain": [
       "[('차량', 0.21835123002529144),\n",
       " ('금융투자', 0.20340925455093384),\n",
       " ('창원시', 0.17866159975528717),\n",
       " ('포드', 0.16418887674808502),\n",
       " ('분쟁', 0.1630246639251709),\n",
       " ('투자', 0.16121633350849152),\n",
       " ('현대차', 0.15707945823669434),\n",
       " ('대통령', 0.14376501739025116),\n",
       " ('오류', 0.14121949672698975),\n",
       " ('신형', 0.13865423202514648),\n",
       " ('에너지', 0.13738416135311127),\n",
       " ('미국', 0.11439759284257889),\n",
       " ('설명', 0.10769246518611908),\n",
       " ('뉴스', 0.10110442340373993),\n",
       " ('버스', 0.09936544299125671),\n",
       " ('이번', 0.08024924993515015),\n",
       " ('벌금', 0.07290253788232803),\n",
       " ('하나', 0.07052716612815857),\n",
       " ('창안', 0.05440426617860794),\n",
       " ('불완전', 0.05065976455807686),\n",
       " ('전국', 0.04237038642168045),\n",
       " ('대해', 0.041831038892269135),\n",
       " ('수소차', 0.031907401978969574),\n",
       " ('수소', 0.031027832999825478),\n",
       " ('결정', 0.01754223182797432),\n",
       " ('도심', 0.01608729176223278),\n",
       " ('창원', 0.0065523614175617695),\n",
       " ('투입', -0.0038586563896387815),\n",
       " ('환경', -0.014624128118157387),\n",
       " ('연합뉴스', -0.016146257519721985)]"
      ]
     },
     "execution_count": 15,
     "metadata": {},
     "output_type": "execute_result"
    }
   ],
   "source": [
    "model.most_similar('연료', topn=30)"
   ]
  },
  {
   "cell_type": "code",
   "execution_count": 16,
   "metadata": {},
   "outputs": [
    {
     "name": "stderr",
     "output_type": "stream",
     "text": [
      "C:\\Users\\andrew\\.conda\\envs\\text3.5\\lib\\site-packages\\ipykernel_launcher.py:1: DeprecationWarning: Call to deprecated `most_similar` (Method will be removed in 4.0.0, use self.wv.most_similar() instead).\n",
      "  \"\"\"Entry point for launching an IPython kernel.\n"
     ]
    },
    {
     "data": {
      "text/plain": [
       "[('자동차', 0.1984236240386963),\n",
       " ('창원', 0.1958369016647339),\n",
       " ('설명', 0.17953810095787048),\n",
       " ('벌금', 0.14545613527297974),\n",
       " ('불완전', 0.11413055658340454),\n",
       " ('미국', 0.10152148455381393),\n",
       " ('연료', 0.09936544299125671),\n",
       " ('분쟁', 0.09307936578989029),\n",
       " ('투자자', 0.08461220562458038),\n",
       " ('포드', 0.08164171129465103),\n",
       " ('결정', 0.0774364173412323),\n",
       " ('신형', 0.06226736307144165),\n",
       " ('창안', 0.045268796384334564),\n",
       " ('오류', 0.043725091964006424),\n",
       " ('올해', 0.030409911647439003),\n",
       " ('기자', 0.025942258536815643),\n",
       " ('연합뉴스', 0.0235382579267025),\n",
       " ('투입', 0.021023040637373924),\n",
       " ('현대차', 0.017803657799959183),\n",
       " ('문재인', 0.013212159276008606),\n",
       " ('차량', 0.012980221770703793),\n",
       " ('공기', 0.007257306016981602),\n",
       " ('하나', 0.005207687150686979),\n",
       " ('뉴스', -0.00023641734151169658),\n",
       " ('수소차', -0.0019342234591022134),\n",
       " ('투자', -0.006711205933243036),\n",
       " ('수소', -0.007123478688299656),\n",
       " ('환경', -0.013827797025442123),\n",
       " ('대통령', -0.014586728066205978),\n",
       " ('노선', -0.03596366569399834)]"
      ]
     },
     "execution_count": 16,
     "metadata": {},
     "output_type": "execute_result"
    }
   ],
   "source": [
    "model.most_similar('버스', topn=30)"
   ]
  }
 ],
 "metadata": {
  "kernelspec": {
   "display_name": "text3.5",
   "language": "python",
   "name": "text3.5"
  },
  "language_info": {
   "codemirror_mode": {
    "name": "ipython",
    "version": 3
   },
   "file_extension": ".py",
   "mimetype": "text/x-python",
   "name": "python",
   "nbconvert_exporter": "python",
   "pygments_lexer": "ipython3",
   "version": "3.5.6"
  }
 },
 "nbformat": 4,
 "nbformat_minor": 2
}
