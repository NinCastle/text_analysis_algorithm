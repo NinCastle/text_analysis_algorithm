{
 "cells": [
  {
   "cell_type": "code",
   "execution_count": 16,
   "metadata": {},
   "outputs": [],
   "source": [
    "from numpy import dot\n",
    "from numpy.linalg import norm\n",
    "import numpy as np\n",
    "\n",
    "def cosine_similarity(A, B):\n",
    "#     print(norm(A) * norm(B))\n",
    "#     print()\n",
    "    return dot(A, B) / (norm(A) * norm(B))"
   ]
  },
  {
   "cell_type": "code",
   "execution_count": 17,
   "metadata": {},
   "outputs": [],
   "source": [
    "document1 = np.array((4, 2, 3, 1))\n",
    "document2 = np.array((0, 0, 1, 9))\n",
    "document3 = np.array((9, 6, 7, 3))\n",
    "document4 = np.array((3, 1, 3, 5))"
   ]
  },
  {
   "cell_type": "code",
   "execution_count": 18,
   "metadata": {},
   "outputs": [
    {
     "name": "stdout",
     "output_type": "stream",
     "text": [
      "0.7706746355884524\n",
      "\n",
      "0.7991125898544322\n",
      "\n",
      "0.7863279775715019\n"
     ]
    }
   ],
   "source": [
    "print(cosine_similarity(document4, document1))\n",
    "print()\n",
    "print(cosine_similarity(document4, document2))\n",
    "print()\n",
    "print(cosine_similarity(document4, document3))"
   ]
  },
  {
   "cell_type": "code",
   "execution_count": 20,
   "metadata": {},
   "outputs": [],
   "source": [
    "import requests\n",
    "from bs4 import BeautifulSoup\n",
    "from collections import Counter\n",
    "from konlpy.tag import Okt; okt = Okt()"
   ]
  },
  {
   "cell_type": "code",
   "execution_count": 21,
   "metadata": {},
   "outputs": [],
   "source": [
    "urls = ['https://news.naver.com/main/read.nhn?mode=LSD&mid=shm&sid1=101&oid=014&aid=0004240408', \n",
    "       'https://news.naver.com/main/read.nhn?mode=LSD&mid=shm&sid1=101&oid=008&aid=0004229219',\n",
    "       'https://news.naver.com/main/read.nhn?mode=LSD&mid=shm&sid1=102&oid=001&aid=0010871291', \n",
    "       'https://news.naver.com/main/read.nhn?mode=LSD&mid=shm&sid1=103&oid=029&aid=0002531788']"
   ]
  },
  {
   "cell_type": "code",
   "execution_count": 22,
   "metadata": {},
   "outputs": [],
   "source": [
    "total_nouns = []\n",
    "each_count = []\n",
    "for url in urls:\n",
    "    req = requests.get(url)\n",
    "    soup = BeautifulSoup(req.content, 'html.parser')\n",
    "    news = soup.find('div', id='articleBodyContents')\n",
    "    news_nouns = okt.nouns(news.text)\n",
    "    nouns_count = Counter(news_nouns)\n",
    "    over_one = {}\n",
    "    for n in nouns_count:\n",
    "        if len(n) > 1:\n",
    "            over_one.update({n:nouns_count[n]})\n",
    "            total_nouns.append(n)\n",
    "    each_count.append(over_one)"
   ]
  },
  {
   "cell_type": "code",
   "execution_count": 23,
   "metadata": {},
   "outputs": [],
   "source": [
    "make_vecter = []\n",
    "for e_news in each_count:\n",
    "    news_array = []\n",
    "    for i in total_nouns:\n",
    "        try:\n",
    "            news_array.append(e_news[i])\n",
    "        except:\n",
    "            news_array.append(0)\n",
    "    make_vecter.append(np.array(tuple(news_array)))"
   ]
  },
  {
   "cell_type": "code",
   "execution_count": 24,
   "metadata": {},
   "outputs": [
    {
     "name": "stdout",
     "output_type": "stream",
     "text": [
      "0.22296194519014362\n",
      "\n",
      "0.08198351890291045\n",
      "\n",
      "0.039994075390621435\n"
     ]
    }
   ],
   "source": [
    "print(cosine_similarity(make_vecter[0], make_vecter[1]))\n",
    "print()\n",
    "print(cosine_similarity(make_vecter[0], make_vecter[2]))\n",
    "print()\n",
    "print(cosine_similarity(make_vecter[0], make_vecter[3]))"
   ]
  }
 ],
 "metadata": {
  "kernelspec": {
   "display_name": "text3.5",
   "language": "python",
   "name": "text3.5"
  },
  "language_info": {
   "codemirror_mode": {
    "name": "ipython",
    "version": 3
   },
   "file_extension": ".py",
   "mimetype": "text/x-python",
   "name": "python",
   "nbconvert_exporter": "python",
   "pygments_lexer": "ipython3",
   "version": "3.5.6"
  }
 },
 "nbformat": 4,
 "nbformat_minor": 2
}
