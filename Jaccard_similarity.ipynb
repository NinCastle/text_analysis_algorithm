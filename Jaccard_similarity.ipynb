{
 "cells": [
  {
   "cell_type": "code",
   "execution_count": 9,
   "metadata": {},
   "outputs": [],
   "source": [
    "document1 = {'사과', '요리',  '파이',  '음료수',  '좋아'}\n",
    "document2 = {'자동차', '여행', '해외', '좋아', '비행기'}\n",
    "document3 = {'치킨', '사이다', '음료수', '무', '요리'}"
   ]
  },
  {
   "cell_type": "code",
   "execution_count": 12,
   "metadata": {},
   "outputs": [
    {
     "name": "stdout",
     "output_type": "stream",
     "text": [
      "{'사과', '음료수', '요리', '좋아', '자동차', '여행', '해외', '파이', '비행기'}\n",
      "{'사과', '음료수', '요리', '좋아', '치킨', '파이', '무', '사이다'}\n"
     ]
    }
   ],
   "source": [
    "# 합집합\n",
    "union_1_2 = document1 | document2\n",
    "union_1_3 = document1 | document3\n",
    "print(union_1_2)\n",
    "print(union_1_3)"
   ]
  },
  {
   "cell_type": "code",
   "execution_count": 15,
   "metadata": {},
   "outputs": [
    {
     "name": "stdout",
     "output_type": "stream",
     "text": [
      "{'좋아'}\n",
      "{'음료수', '요리'}\n"
     ]
    }
   ],
   "source": [
    "# 교집합\n",
    "intersection_1_2 = document1 & document2\n",
    "intersection_1_3 = document1 & document3\n",
    "print(intersection_1_2)\n",
    "print(intersection_1_3)"
   ]
  },
  {
   "cell_type": "code",
   "execution_count": 17,
   "metadata": {},
   "outputs": [
    {
     "data": {
      "text/plain": [
       "0.1111111111111111"
      ]
     },
     "execution_count": 17,
     "metadata": {},
     "output_type": "execute_result"
    }
   ],
   "source": [
    "len(intersection_1_2) / len(union_1_2)"
   ]
  },
  {
   "cell_type": "code",
   "execution_count": 18,
   "metadata": {},
   "outputs": [
    {
     "data": {
      "text/plain": [
       "0.25"
      ]
     },
     "execution_count": 18,
     "metadata": {},
     "output_type": "execute_result"
    }
   ],
   "source": [
    "len(intersection_1_3) / len(union_1_3)"
   ]
  },
  {
   "cell_type": "code",
   "execution_count": 20,
   "metadata": {},
   "outputs": [],
   "source": [
    "import requests\n",
    "from bs4 import BeautifulSoup\n",
    "from konlpy.tag import Okt; okt = Okt()"
   ]
  },
  {
   "cell_type": "code",
   "execution_count": 21,
   "metadata": {},
   "outputs": [],
   "source": [
    "urls = ['https://news.naver.com/main/read.nhn?mode=LSD&mid=shm&sid1=101&oid=014&aid=0004240408', \n",
    "       'https://news.naver.com/main/read.nhn?mode=LSD&mid=shm&sid1=101&oid=008&aid=0004229219',\n",
    "       'https://news.naver.com/main/read.nhn?mode=LSD&mid=shm&sid1=102&oid=001&aid=0010871291', \n",
    "       'https://news.naver.com/main/read.nhn?mode=LSD&mid=shm&sid1=103&oid=029&aid=0002531788']"
   ]
  },
  {
   "cell_type": "code",
   "execution_count": 27,
   "metadata": {},
   "outputs": [],
   "source": [
    "each_count = []\n",
    "for url in urls:\n",
    "    req = requests.get(url)\n",
    "    soup = BeautifulSoup(req.content, 'html.parser')\n",
    "    news = soup.find('div', id='articleBodyContents')\n",
    "    news_nouns = okt.nouns(news.text)\n",
    "    over_one = set()\n",
    "    for n in news_nouns:\n",
    "        if len(n) > 1:\n",
    "            over_one.add(n)\n",
    "    each_count.append(over_one)"
   ]
  },
  {
   "cell_type": "code",
   "execution_count": 34,
   "metadata": {},
   "outputs": [
    {
     "name": "stdout",
     "output_type": "stream",
     "text": [
      "0.14220183486238533\n",
      "0.05859375\n",
      "0.03614457831325301\n"
     ]
    }
   ],
   "source": [
    "for i in range(1, 4):\n",
    "    #합집합\n",
    "    un = each_count[0] | each_count[i]\n",
    "    #교집합\n",
    "    it = each_count[0] & each_count[i]\n",
    "    print(len(it)/len(un))"
   ]
  }
 ],
 "metadata": {
  "kernelspec": {
   "display_name": "text3.5",
   "language": "python",
   "name": "text3.5"
  },
  "language_info": {
   "codemirror_mode": {
    "name": "ipython",
    "version": 3
   },
   "file_extension": ".py",
   "mimetype": "text/x-python",
   "name": "python",
   "nbconvert_exporter": "python",
   "pygments_lexer": "ipython3",
   "version": "3.5.6"
  }
 },
 "nbformat": 4,
 "nbformat_minor": 2
}
