{
 "cells": [
  {
   "cell_type": "code",
   "execution_count": 1,
   "metadata": {},
   "outputs": [
    {
     "name": "stderr",
     "output_type": "stream",
     "text": [
      "C:\\Users\\andrew\\.conda\\envs\\text3.5\\lib\\site-packages\\smart_open\\ssh.py:34: UserWarning: paramiko missing, opening SSH/SCP/SFTP paths will be disabled.  `pip install paramiko` to suppress\n",
      "  warnings.warn('paramiko missing, opening SSH/SCP/SFTP paths will be disabled.  `pip install paramiko` to suppress')\n",
      "C:\\Users\\andrew\\.conda\\envs\\text3.5\\lib\\site-packages\\gensim\\utils.py:1197: UserWarning: detected Windows; aliasing chunkize to chunkize_serial\n",
      "  warnings.warn(\"detected Windows; aliasing chunkize to chunkize_serial\")\n"
     ]
    }
   ],
   "source": [
    "import requests\n",
    "from bs4 import BeautifulSoup\n",
    "from konlpy.tag import Okt; okt = Okt()\n",
    "from gensim.models.doc2vec import Doc2Vec, TaggedDocument"
   ]
  },
  {
   "cell_type": "code",
   "execution_count": 2,
   "metadata": {},
   "outputs": [],
   "source": [
    "urls = ['https://news.naver.com/main/read.nhn?mode=LSD&mid=shm&sid1=101&oid=014&aid=0004240408', \n",
    "       'https://news.naver.com/main/read.nhn?mode=LSD&mid=shm&sid1=101&oid=008&aid=0004229219',\n",
    "       'https://news.naver.com/main/read.nhn?mode=LSD&mid=shm&sid1=102&oid=001&aid=0010871291', \n",
    "       'https://news.naver.com/main/read.nhn?mode=LSD&mid=shm&sid1=103&oid=029&aid=0002531788']"
   ]
  },
  {
   "cell_type": "code",
   "execution_count": 3,
   "metadata": {},
   "outputs": [],
   "source": [
    "documents = []\n",
    "for idx, url in enumerate(urls):\n",
    "    req = requests.get(url)\n",
    "    soup = BeautifulSoup(req.content, 'html.parser')\n",
    "    news = soup.find('div', id='articleBodyContents')\n",
    "    nouns_ = okt.nouns(news.text)\n",
    "    doc_ = []\n",
    "    for i in nouns_:\n",
    "        if len(i) > 1:\n",
    "            doc_.append(i)\n",
    "    documents.append(\n",
    "        TaggedDocument(words = doc_, \n",
    "                       tags=['news_{}'.format(idx)]))"
   ]
  },
  {
   "cell_type": "code",
   "execution_count": 4,
   "metadata": {},
   "outputs": [],
   "source": [
    "model = Doc2Vec(documents, \n",
    "                vector_size=200, \n",
    "                window=12, \n",
    "                min_count=5, \n",
    "                workers=4, \n",
    "                alpha=0.025, \n",
    "                min_alpha=0.025)"
   ]
  },
  {
   "cell_type": "code",
   "execution_count": 5,
   "metadata": {},
   "outputs": [
    {
     "name": "stderr",
     "output_type": "stream",
     "text": [
      "C:\\Users\\andrew\\.conda\\envs\\text3.5\\lib\\site-packages\\ipykernel_launcher.py:1: DeprecationWarning: Call to deprecated `most_similar` (Method will be removed in 4.0.0, use self.wv.most_similar() instead).\n",
      "  \"\"\"Entry point for launching an IPython kernel.\n"
     ]
    },
    {
     "data": {
      "text/plain": [
       "[('미국', 0.2656923830509186),\n",
       " ('지난해', 0.1564527451992035),\n",
       " ('분쟁', 0.1343425065279007),\n",
       " ('기자', 0.10465133190155029),\n",
       " ('금융투자', 0.10402713716030121),\n",
       " ('연합뉴스', 0.09884481877088547),\n",
       " ('수소', 0.0917060449719429),\n",
       " ('버스', 0.09019621461629868)]"
      ]
     },
     "execution_count": 5,
     "metadata": {},
     "output_type": "execute_result"
    }
   ],
   "source": [
    "model.most_similar('중국', topn=8)"
   ]
  },
  {
   "cell_type": "code",
   "execution_count": 6,
   "metadata": {},
   "outputs": [
    {
     "name": "stderr",
     "output_type": "stream",
     "text": [
      "C:\\Users\\andrew\\.conda\\envs\\text3.5\\lib\\site-packages\\ipykernel_launcher.py:1: DeprecationWarning: Call to deprecated `most_similar` (Method will be removed in 4.0.0, use self.wv.most_similar() instead).\n",
      "  \"\"\"Entry point for launching an IPython kernel.\n"
     ]
    },
    {
     "data": {
      "text/plain": [
       "[('신형', 0.21298155188560486),\n",
       " ('충전', 0.18025653064250946),\n",
       " ('자동차', 0.14278078079223633),\n",
       " ('지난해', 0.13110071420669556),\n",
       " ('대통령', 0.12444975972175598),\n",
       " ('현대차', 0.11405081301927567),\n",
       " ('도심', 0.10032868385314941),\n",
       " ('수소', 0.09897743910551071)]"
      ]
     },
     "execution_count": 6,
     "metadata": {},
     "output_type": "execute_result"
    }
   ],
   "source": [
    "model.most_similar('에너지', topn=8)"
   ]
  },
  {
   "cell_type": "code",
   "execution_count": 12,
   "metadata": {},
   "outputs": [
    {
     "data": {
      "text/plain": [
       "4"
      ]
     },
     "execution_count": 12,
     "metadata": {},
     "output_type": "execute_result"
    }
   ],
   "source": [
    "model.docvecs.count"
   ]
  },
  {
   "cell_type": "code",
   "execution_count": 11,
   "metadata": {},
   "outputs": [
    {
     "data": {
      "text/plain": [
       "{'news_0': Doctag(offset=0, word_count=203, doc_count=1),\n",
       " 'news_1': Doctag(offset=1, word_count=211, doc_count=1),\n",
       " 'news_2': Doctag(offset=2, word_count=251, doc_count=1),\n",
       " 'news_3': Doctag(offset=3, word_count=373, doc_count=1)}"
      ]
     },
     "execution_count": 11,
     "metadata": {},
     "output_type": "execute_result"
    }
   ],
   "source": [
    "model.docvecs.doctags"
   ]
  },
  {
   "cell_type": "code",
   "execution_count": 7,
   "metadata": {},
   "outputs": [
    {
     "data": {
      "text/plain": [
       "4"
      ]
     },
     "execution_count": 7,
     "metadata": {},
     "output_type": "execute_result"
    }
   ],
   "source": [
    "len(model.docvecs)"
   ]
  },
  {
   "cell_type": "code",
   "execution_count": 8,
   "metadata": {},
   "outputs": [
    {
     "name": "stdout",
     "output_type": "stream",
     "text": [
      "news_0 Doctag(offset=0, word_count=203, doc_count=1)\n",
      "news_1 Doctag(offset=1, word_count=211, doc_count=1)\n",
      "news_2 Doctag(offset=2, word_count=251, doc_count=1)\n",
      "news_3 Doctag(offset=3, word_count=373, doc_count=1)\n"
     ]
    }
   ],
   "source": [
    "for idx, doctag in sorted(model.docvecs.doctags.items(), key=lambda x:x[1].offset):\n",
    "    print(idx, doctag)"
   ]
  },
  {
   "cell_type": "code",
   "execution_count": 9,
   "metadata": {},
   "outputs": [
    {
     "data": {
      "text/plain": [
       "[('news_1', 0.2968999445438385),\n",
       " ('news_3', 0.24522429704666138),\n",
       " ('news_2', 0.14569976925849915)]"
      ]
     },
     "execution_count": 9,
     "metadata": {},
     "output_type": "execute_result"
    }
   ],
   "source": [
    "model.docvecs.most_similar('news_0')"
   ]
  },
  {
   "cell_type": "code",
   "execution_count": 10,
   "metadata": {},
   "outputs": [
    {
     "data": {
      "text/plain": [
       "[('news_0', 0.2968999445438385),\n",
       " ('news_2', 0.2092197835445404),\n",
       " ('news_3', 0.14126718044281006)]"
      ]
     },
     "execution_count": 10,
     "metadata": {},
     "output_type": "execute_result"
    }
   ],
   "source": [
    "model.docvecs.most_similar(1)"
   ]
  }
 ],
 "metadata": {
  "kernelspec": {
   "display_name": "text3.5",
   "language": "python",
   "name": "text3.5"
  },
  "language_info": {
   "codemirror_mode": {
    "name": "ipython",
    "version": 3
   },
   "file_extension": ".py",
   "mimetype": "text/x-python",
   "name": "python",
   "nbconvert_exporter": "python",
   "pygments_lexer": "ipython3",
   "version": "3.5.6"
  }
 },
 "nbformat": 4,
 "nbformat_minor": 2
}
